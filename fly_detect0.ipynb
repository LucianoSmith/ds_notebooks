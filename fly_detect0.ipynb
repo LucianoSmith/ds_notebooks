{
 "cells": [
  {
   "cell_type": "code",
   "execution_count": null,
   "metadata": {},
   "outputs": [],
   "source": [
    "import numpy as np\n",
    "import cv2\n",
    "import matplotlib.pyplot as plt\n",
    "%matplotlib inline  "
   ]
  },
  {
   "cell_type": "code",
   "execution_count": null,
   "metadata": {},
   "outputs": [],
   "source": [
    "n = 60\n",
    "img = cv2.imread('Fotos 1-11-097.jpeg', 0) # el cero final es para que la lea en greyscale\n",
    "\n",
    "#DENOISE\n",
    "\n",
    "\n",
    "plt.imshow(img, cmap='gray')\n",
    "\n",
    "#dst = cv2.fastNlMeansDenoisingColored()    img, None, 6, 6, 7, 21)\n",
    "\n",
    "#plt.imshow(dst, cmap='gray')"
   ]
  },
  {
   "cell_type": "code",
   "execution_count": null,
   "metadata": {},
   "outputs": [],
   "source": [
    "img2 = img[1050:1200,1830:2000]\n",
    "\n",
    "x = [0, 250] \n",
    "y = [n, n] \n",
    "plt.plot(x, y, color=\"red\", linewidth=1) \n",
    "\n",
    "plt.imshow(img2, cmap='gray')\n",
    "\n",
    "img.shape"
   ]
  },
  {
   "cell_type": "code",
   "execution_count": null,
   "metadata": {},
   "outputs": [],
   "source": [
    "img2[n,:]"
   ]
  },
  {
   "cell_type": "markdown",
   "metadata": {},
   "source": []
  },
  {
   "cell_type": "code",
   "execution_count": null,
   "metadata": {},
   "outputs": [],
   "source": [
    "\n",
    "img3 = 255-img2[n,:]\n",
    "\n",
    "img3[img3 < 120] = 0\n",
    "#img3[(img3 >= 120) & (img3 <= 180)] = 100\n",
    "\n",
    "img3[img3 >= 120] = 200\n",
    "plt.plot(img3)\n",
    "plt.show()\n"
   ]
  },
  {
   "cell_type": "code",
   "execution_count": null,
   "metadata": {},
   "outputs": [],
   "source": [
    "img4 = img2\n",
    "img4[img2 < 120] = 0\n",
    "img4[img2 >= 120] = 255"
   ]
  },
  {
   "cell_type": "code",
   "execution_count": null,
   "metadata": {},
   "outputs": [],
   "source": [
    "plt.imshow(img4, cmap='gray')\n",
    "\n"
   ]
  },
  {
   "cell_type": "code",
   "execution_count": null,
   "metadata": {},
   "outputs": [],
   "source": [
    "#print((img4 > 0).sum())\n",
    "print(\"CANT PIXELS 1 INSECTO\",(img4 == 0).sum()/2)\n",
    "\n"
   ]
  },
  {
   "cell_type": "code",
   "execution_count": null,
   "metadata": {},
   "outputs": [],
   "source": [
    "img = cv2.imread('Fotos 1-11-097.jpeg', 0)\n",
    "img\n",
    "img5 = img\n",
    "#img5[img < 80] = 255\n",
    "img5[img < 120] = 0\n",
    "img5[img >= 120] = 255\n",
    "\n",
    "circle1 = plt.Circle((2540, 1190), 1760, color='r',alpha=0.5)\n",
    "plt.gca().add_patch(circle1)\n",
    "\n",
    "#plt.plot(x, y, color=\"red\", linewidth=1) \n",
    "plt.imshow(img5, cmap='gray')"
   ]
  },
  {
   "cell_type": "code",
   "execution_count": null,
   "metadata": {},
   "outputs": [],
   "source": [
    "mask = np.zeros([2848, 4288], np.int8)\n",
    "cv2.circle(mask,(2540, 1190), 1760, (255,255,255), -1)\n",
    "\n",
    "plt.imshow(mask, cmap='gray')\n",
    "\n",
    "print(mask[1500,1030])\n",
    "print(mask[0,0])\n"
   ]
  },
  {
   "cell_type": "code",
   "execution_count": null,
   "metadata": {},
   "outputs": [],
   "source": [
    "img5[mask == 0] = 255"
   ]
  },
  {
   "cell_type": "code",
   "execution_count": null,
   "metadata": {},
   "outputs": [],
   "source": [
    "img6 = cv2.bitwise_not(img5)\n",
    "plt.imshow(img6,cmap='gray')"
   ]
  },
  {
   "cell_type": "code",
   "execution_count": null,
   "metadata": {},
   "outputs": [],
   "source": [
    "\n",
    "_, th = cv2.threshold(img6,10, 255, cv2.THRESH_BINARY)\n",
    "contornos, _ = cv2.findContours(th, cv2.RETR_EXTERNAL, cv2.CHAIN_APPROX_SIMPLE)\n",
    "print(len(contornos))"
   ]
  },
  {
   "cell_type": "code",
   "execution_count": null,
   "metadata": {},
   "outputs": [],
   "source": [
    "hmax = 150\n",
    "wmax = 150\n",
    "rect = 150\n",
    "\n",
    "for c in contornos:\n",
    "    (x, y, w, h) = cv2.boundingRect(c)\n",
    "    if (h<hmax) or (w<wmax):\n",
    "\n",
    "        x0 = int((x + w/2) - (rect/2))\n",
    "        y0 = int((y + h/2) - (rect/2))\n",
    "\n",
    "        cv2.rectangle(img5, (x0, y0), (x0+rect, y0+rect), (0, 0, 255), 2)\n",
    "    else:\n",
    "        cv2.rectangle(img5, (x, y), (x+w, y+h), (0, 0, 255), 20)\n",
    "\n",
    "plt.figure(figsize = (200,20))\n",
    "plt.imshow(img5)"
   ]
  },
  {
   "cell_type": "code",
   "execution_count": null,
   "metadata": {},
   "outputs": [],
   "source": [
    "#circle1 = plt.Circle((2540, 1190), 1760, color='r',alpha=0.5)\n",
    "#plt.gca().add_patch(circle1)\n",
    "x = 1020\n",
    "y = 450\n",
    "s = 150\n",
    "cv2.rectangle(img5, (x,y),(x+s,y+s), (0,0,255), 10)\n",
    "plt.imshow(img5)"
   ]
  },
  {
   "cell_type": "code",
   "execution_count": null,
   "metadata": {},
   "outputs": [],
   "source": [
    "# CANT PIXELS 1 INSECTO 3378.5\n",
    "print(\"CANT INSECTOS\",(img5 == 0).sum()/3378)"
   ]
  },
  {
   "cell_type": "code",
   "execution_count": null,
   "metadata": {},
   "outputs": [],
   "source": [
    "# la cantidad de pixeles para un insecto debe estar entre ciertos umbrales"
   ]
  }
 ],
 "metadata": {
  "kernelspec": {
   "display_name": "base",
   "language": "python",
   "name": "python3"
  },
  "language_info": {
   "codemirror_mode": {
    "name": "ipython",
    "version": 3
   },
   "file_extension": ".py",
   "mimetype": "text/x-python",
   "name": "python",
   "nbconvert_exporter": "python",
   "pygments_lexer": "ipython3",
   "version": "3.8.8"
  }
 },
 "nbformat": 4,
 "nbformat_minor": 2
}
