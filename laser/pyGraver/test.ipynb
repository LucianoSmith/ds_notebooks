{
 "cells": [
  {
   "cell_type": "code",
   "execution_count": 115,
   "metadata": {},
   "outputs": [],
   "source": [
    "import serial\n",
    "import threading\n",
    "import time\n",
    "from PyQt5.QtGui import QImage, qGray\n",
    "from PyQt5.QtCore import QSize, Qt\n",
    "\n",
    "\n"
   ]
  },
  {
   "cell_type": "code",
   "execution_count": 116,
   "metadata": {},
   "outputs": [],
   "source": [
    "remain_cmd = None\n",
    "cmd_todecode = None\n",
    "check_online = False\n",
    "askToStop = False\n",
    "uploadInProcess = False\n",
    "carvingPercentProgress = 100\n",
    "numericUpDown_times = 1\n",
    "fan_RPM = 0\n",
    "fan_Precent = 0\n",
    "\n"
   ]
  },
  {
   "cell_type": "code",
   "execution_count": 117,
   "metadata": {},
   "outputs": [],
   "source": [
    "def decode(D1, D2, D3):\n",
    "        # print(D1, D2, D3)\n",
    "        if D1 == 0:\n",
    "            print(\"ONLINE\")\n",
    "            online = True\n",
    "            return\n",
    "        # elif D1 == 1:\n",
    "        #    break\n",
    "        elif D1 == 2:\n",
    "            print(\"CONNECTION OK !\")"
   ]
  },
  {
   "cell_type": "code",
   "execution_count": 118,
   "metadata": {},
   "outputs": [],
   "source": [
    "def dataReceived(s):\n",
    "\n",
    "    remain_cmd = None # sacar, deberia ser parametro local\n",
    "\n",
    "\n",
    "    nbToRead = s.inWaiting()\n",
    "    if nbToRead == 0:\n",
    "        return False\n",
    "    #\n",
    "    data = bytearray(s.read(nbToRead))\n",
    "    #\n",
    "    if remain_cmd is not None:\n",
    "        cmd_todecode = bytearray(remain_cmd)\n",
    "        cmd_todecode.extend(data)\n",
    "    else:\n",
    "        cmd_todecode = bytearray(data)\n",
    "    remain_cmd = None\n",
    "\n",
    "    if (len(cmd_todecode) % 4 != 0):\n",
    "        remain_cmd = bytearray(len(cmd_todecode) % 4)\n",
    "        lr = len(remain_cmd)\n",
    "        lt = len(cmd_todecode)\n",
    "        for i in range(len(remain_cmd)):\n",
    "            remain_cmd[i] = cmd_todecode[lt - lr + i]\n",
    "        array2 = bytearray(cmd_todecode)\n",
    "        cmd_todecode = bytearray(len(array2) - lr)\n",
    "        for j in range(len(array2) - lr):\n",
    "            cmd_todecode[j] = array2[j]\n",
    "    cmd = cmd_todecode\n",
    "    for k in range(len(cmd)):\n",
    "        if (cmd[k] == 255) and (k+3) < len(cmd):\n",
    "            decode(cmd[k + 1], cmd[k + 2], cmd[k + 3])\n",
    "    return True\n"
   ]
  },
  {
   "cell_type": "code",
   "execution_count": 119,
   "metadata": {},
   "outputs": [],
   "source": [
    "def wait_data(s):\n",
    "    finish = False\n",
    "    while not finish:\n",
    "        finish = dataReceived(s)\n",
    "        time.sleep(0.02)"
   ]
  },
  {
   "cell_type": "code",
   "execution_count": 120,
   "metadata": {},
   "outputs": [],
   "source": [
    "def send_CMD(s, D1, D2, D3):\n",
    "    buffer = bytes([255, D1, D2, D3])\n",
    "    print(\"send\", buffer)\n",
    "    s.write(buffer)\n",
    "    s.flush()\n",
    "\n",
    "\n",
    " "
   ]
  },
  {
   "cell_type": "code",
   "execution_count": 121,
   "metadata": {},
   "outputs": [],
   "source": [
    "def send_CMD_array(s, arr):\n",
    "    print(\"send\", arr)\n",
    "    buffer = bytes([255]+arr)\n",
    "    print(\"send\", buffer)\n",
    "    s.write(buffer)\n",
    "    s.flush()"
   ]
  },
  {
   "cell_type": "code",
   "execution_count": 122,
   "metadata": {},
   "outputs": [
    {
     "name": "stdout",
     "output_type": "stream",
     "text": [
      "send b'\\xff\\tZ\\xa5'\n",
      "send [170, 8, 1, 1, 90, 165, 85]\n",
      "send b'\\xff\\xaa\\x08\\x01\\x01Z\\xa5U'\n"
     ]
    }
   ],
   "source": [
    "serial = serial.Serial(\"/dev/cu.usbserial-1140\", 57600)\n",
    "\n",
    "if serial.isOpen():\n",
    "        # #FF#09#5A#A5\n",
    "        send_CMD(serial, 9, 90, 165)                                    # se conecta\n",
    "        wait_data(serial)                                               # responde CONNECTION OK !\n",
    "        # #FF#AA#08#01#01#5A#A5#55\n",
    "        send_CMD_array(serial, [170, 8, 1, 1, 90, 165, 85])             # este parece que hace home\n",
    "        serial.write(b\"\\xFB\") # move center\n",
    "        [serial.write(b\"\\xF5\\x01\") for _ in range(0, 15)]\n",
    "else:\n",
    "        print(\"Error : no serial connection\")\n",
    "\n"
   ]
  },
  {
   "cell_type": "code",
   "execution_count": 124,
   "metadata": {},
   "outputs": [
    {
     "data": {
      "text/plain": [
       "[2, 2, 2, 2, 2, 2, 2, 2, 2, 2, 2, 2, 2, 2, 2]"
      ]
     },
     "execution_count": 124,
     "metadata": {},
     "output_type": "execute_result"
    }
   ],
   "source": [
    "\n",
    "[serial.write(b\"\\xF5\\x02\") for _ in range(0, 15)]\n",
    "\n"
   ]
  },
  {
   "cell_type": "code",
   "execution_count": 101,
   "metadata": {},
   "outputs": [
    {
     "data": {
      "text/plain": [
       "1"
      ]
     },
     "execution_count": 101,
     "metadata": {},
     "output_type": "execute_result"
    }
   ],
   "source": [
    "serial.write(b\"\\xF9\") # reset"
   ]
  },
  {
   "cell_type": "code",
   "execution_count": 126,
   "metadata": {},
   "outputs": [
    {
     "data": {
      "text/plain": [
       "1"
      ]
     },
     "execution_count": 126,
     "metadata": {},
     "output_type": "execute_result"
    }
   ],
   "source": [
    "serial.write(b\"\\xF6\")"
   ]
  },
  {
   "cell_type": "code",
   "execution_count": 1,
   "metadata": {},
   "outputs": [
    {
     "name": "stdout",
     "output_type": "stream",
     "text": [
      "bad mojo: b'\\xbc\\xbc'\n"
     ]
    }
   ],
   "source": [
    "import serial\n",
    "usb_port = \"/dev/cu.usbserial-1140\"\n",
    "baud_rate = 57600\n",
    "\n",
    "#serial = serial.Serial(\"/dev/cu.usbserial-1140\", 57600)\n",
    "\n",
    "ser = serial.Serial(\n",
    "            port=usb_port,\n",
    "            baudrate=baud_rate,\n",
    "            parity=serial.PARITY_ODD,\n",
    "            stopbits=serial.STOPBITS_ONE,\n",
    "            bytesize=serial.EIGHTBITS,\n",
    ")\n",
    "\n",
    "ser.write(b\"\\xF6\") # 92 120 70 54\n",
    "res = ser.read(2)\n",
    "if res == b\"e\\xfb\":\n",
    "    print(\"nejemojo is go\")\n",
    "else:\n",
    "    print(f\"bad mojo: {res}\")\n",
    "\n"
   ]
  },
  {
   "cell_type": "code",
   "execution_count": 2,
   "metadata": {},
   "outputs": [
    {
     "name": "stdout",
     "output_type": "stream",
     "text": [
      "b'\\xf6'\n"
     ]
    }
   ],
   "source": [
    "print(b'\\xF6')"
   ]
  },
  {
   "cell_type": "code",
   "execution_count": null,
   "metadata": {},
   "outputs": [],
   "source": []
  }
 ],
 "metadata": {
  "kernelspec": {
   "display_name": "base",
   "language": "python",
   "name": "python3"
  },
  "language_info": {
   "codemirror_mode": {
    "name": "ipython",
    "version": 3
   },
   "file_extension": ".py",
   "mimetype": "text/x-python",
   "name": "python",
   "nbconvert_exporter": "python",
   "pygments_lexer": "ipython3",
   "version": "3.8.8"
  }
 },
 "nbformat": 4,
 "nbformat_minor": 2
}
