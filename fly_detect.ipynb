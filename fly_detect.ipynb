{
 "cells": [
  {
   "cell_type": "code",
   "execution_count": null,
   "metadata": {},
   "outputs": [],
   "source": [
    "import numpy as np\n",
    "import cv2\n",
    "import matplotlib.pyplot as plt\n",
    "%matplotlib inline  "
   ]
  },
  {
   "cell_type": "code",
   "execution_count": null,
   "metadata": {},
   "outputs": [],
   "source": [
    "\n",
    "img_orig = cv2.imread('Fotos 1-11-097.jpeg', cv2.COLOR_BGR2RGB) \n",
    "img_orig = cv2.cvtColor(img_orig, cv2.COLOR_RGB2BGR)\n",
    "img_grey = cv2.imread('Fotos 1-11-097.jpeg', 0)                         # el cero final es para que la lea en greyscale\n",
    "\n"
   ]
  },
  {
   "cell_type": "code",
   "execution_count": null,
   "metadata": {},
   "outputs": [],
   "source": [
    "def increase_brightness(img, value=30):\n",
    "    hsv = cv2.cvtColor(img, cv2.COLOR_BGR2HSV)\n",
    "    h, s, v = cv2.split(hsv)\n",
    "\n",
    "    lim = 255 - value\n",
    "    v[v > lim] = 255\n",
    "    v[v <= lim] += value\n",
    "\n",
    "    final_hsv = cv2.merge((h, s, v))\n",
    "    img = cv2.cvtColor(final_hsv, cv2.COLOR_HSV2BGR)\n",
    "    return img"
   ]
  },
  {
   "cell_type": "code",
   "execution_count": null,
   "metadata": {},
   "outputs": [],
   "source": [
    "img_orig_b = increase_brightness(img_orig, value=30)\n",
    "plt.figure(figsize = (200,20))\n",
    "plt.imshow(img_orig_b) "
   ]
  },
  {
   "cell_type": "code",
   "execution_count": null,
   "metadata": {},
   "outputs": [],
   "source": [
    "plt.figure(figsize = (200,20))\n",
    "plt.imshow(img_orig) "
   ]
  },
  {
   "cell_type": "code",
   "execution_count": null,
   "metadata": {},
   "outputs": [],
   "source": [
    "# eye detection\n",
    "\n",
    "lower_hsv = np.array([11, 40, 38])\n",
    "higher_hsv = np.array([5, 38, 36])\n",
    "\n",
    "mask = cv2.inRange(img_orig, cv2.bgr(1,1,1), higher_hsv)\n",
    "\n",
    "detected_output = cv2.bitwise_and(img_orig, img_orig, mask = mask)\n",
    "\n",
    "plt.figure(figsize = (200,20))\n",
    "plt.imshow( detected_output) \n"
   ]
  },
  {
   "cell_type": "code",
   "execution_count": null,
   "metadata": {},
   "outputs": [],
   "source": [
    "img_orig_b = increase_brightness(img_orig, value=150)\n",
    "img_grey  = cv2.cvtColor(img_orig_b, cv2.COLOR_BGR2GRAY)\n",
    "plt.figure(figsize = (200,20))\n",
    "plt.imshow(img_grey) "
   ]
  },
  {
   "cell_type": "code",
   "execution_count": null,
   "metadata": {},
   "outputs": [],
   "source": [
    "img_ = cv2.GaussianBlur(img_grey, (3,3), 0)\n",
    "_, img_thr = cv2.threshold(img_, 230, 255, cv2.THRESH_BINARY)\n",
    "\n",
    "#img_thr = cv2.adaptiveThreshold(img_, 255, cv2.ADAPTIVE_THRESH_MEAN_C, cv2.THRESH_BINARY, 3, 5)\n",
    "#_, img_thr = cv2.threshold(img_, 0, 255, cv2.THRESH_BINARY + cv2.THRESH_OTSU)\n",
    "\n",
    "plt.figure(figsize = (200,20))\n",
    "plt.imshow(img_thr, cmap=\"gray\") "
   ]
  },
  {
   "cell_type": "code",
   "execution_count": null,
   "metadata": {},
   "outputs": [],
   "source": [
    "image = img_orig\n",
    "\n",
    "b = image.copy()\n",
    "# set green and red channels to 0\n",
    "b[:, :, 1] = 0\n",
    "b[:, :, 2] = 0\n",
    "\n",
    "\n",
    "g = image.copy()\n",
    "# set blue and red channels to 0\n",
    "g[:, :, 0] = 0\n",
    "g[:, :, 2] = 0\n",
    "\n",
    "r = image.copy()\n",
    "# set blue and green channels to 0\n",
    "r[:, :, 0] = 0\n",
    "r[:, :, 1] = 0\n",
    "\n",
    "\n",
    "# RGB - Blue\n",
    "\n",
    "\n",
    "plt.figure(figsize = (200,20))\n",
    "plt.imshow(b, cmap=\"gray\") \n",
    "\n",
    "# RGB - Green\n",
    "\n",
    "plt.figure(figsize = (200,20))\n",
    "plt.imshow(g, cmap=\"gray\") \n",
    "\n",
    "# RGB - Red\n",
    "plt.figure(figsize = (200,20))\n",
    "plt.imshow(r, cmap=\"gray\") \n"
   ]
  },
  {
   "cell_type": "code",
   "execution_count": null,
   "metadata": {},
   "outputs": [],
   "source": [
    "# dilatation\n",
    "\n",
    "kernel = np.ones((3,3), np.uint8)\n",
    "\n",
    "\n",
    "\n",
    "img_thr_dil = cv2.dilate(img_thr, kernel, iterations = 7)\n",
    "img_end = cv2.erode(img_thr_dil, kernel, iterations = 7)\n",
    "\n",
    "plt.figure(figsize = (200,20))\n",
    "plt.imshow(img_end, cmap=\"gray\") "
   ]
  },
  {
   "cell_type": "code",
   "execution_count": null,
   "metadata": {},
   "outputs": [],
   "source": [
    "# invert ... para opencv blanco es el obj\n",
    "img_thr = cv2.bitwise_not(img_thr)"
   ]
  },
  {
   "cell_type": "code",
   "execution_count": null,
   "metadata": {},
   "outputs": [],
   "source": [
    "# dilatation\n",
    "\n",
    "kernel = np.ones((3,3), np.uint8)\n",
    "\n",
    "img_thr_ero = cv2.erode(img_thr, kernel, iterations = 7)\n",
    "img_thr_dil = cv2.dilate(img_thr_ero, kernel, iterations = 12)\n",
    "\n",
    "plt.figure(figsize = (200,20))\n",
    "plt.imshow(img_thr_dil, cmap=\"gray\") "
   ]
  },
  {
   "cell_type": "code",
   "execution_count": null,
   "metadata": {},
   "outputs": [],
   "source": [
    "# HAY 84 MOSCAS\n",
    "t  = 18\n",
    "cont = 0\n",
    "contornos, _ = cv2.findContours(img_thr_dil, cv2.RETR_EXTERNAL, cv2.CHAIN_APPROX_SIMPLE)\n",
    "print(len(contornos))\n",
    "for c in contornos:\n",
    "    if len(c)>t: \n",
    "        #print(len(c))\n",
    "        cont = cont + 1\n",
    "\n",
    "print(\"cant contornos\", cont)"
   ]
  },
  {
   "cell_type": "code",
   "execution_count": null,
   "metadata": {},
   "outputs": [],
   "source": [
    "#img_fin = img_orig\n",
    "img_fin = img_thr_dil\n",
    "img_fin2 = img_orig\n",
    "\n",
    "hmin = 20\n",
    "wmin = 20\n",
    "cont = 0\n",
    "\n",
    "hmax = 120\n",
    "wmax = 120\n",
    "rect = 150\n",
    "\n",
    "for c in contornos:\n",
    "    if len(c)>t:\n",
    "        (x, y, w, h) = cv2.boundingRect(c)\n",
    "        if ((h>hmin) and (w>wmin)) and ((h<hmax) and (w<wmax)):\n",
    "\n",
    "            x0 = int((x + w/2) - (rect/2))\n",
    "            y0 = int((y + h/2) - (rect/2))\n",
    "            cont=cont+1\n",
    "\n",
    "            #cv2.rectangle(img_thr, (x0, y0), (x0+rect, y0+rect), (255, 255, 255), 5)\n",
    "            cv2.rectangle(img_fin, (x0, y0), (x0+rect, y0+rect), (255, 0, 255), 5)\n",
    "            cv2.rectangle(img_fin2, (x0, y0), (x0+rect, y0+rect), (255, 0, 255), 5)\n",
    "        else:\n",
    "            cont=cont+1\n",
    "            cv2.rectangle(img_fin, (x0, y0), (x0+rect, y0+rect), (0, 255, 255), 5)\n",
    "            cv2.rectangle(img_fin2, (x0, y0), (x0+rect, y0+rect), (0, 255, 255), 5)\n",
    "        \n",
    "\n",
    "print(cont)"
   ]
  },
  {
   "cell_type": "code",
   "execution_count": null,
   "metadata": {},
   "outputs": [],
   "source": [
    "plt.figure(figsize = (200,20))\n",
    "plt.imshow(img_fin)"
   ]
  },
  {
   "cell_type": "code",
   "execution_count": null,
   "metadata": {},
   "outputs": [],
   "source": [
    "plt.figure(figsize = (200,20))\n",
    "plt.imshow(img_fin2)"
   ]
  },
  {
   "cell_type": "code",
   "execution_count": null,
   "metadata": {},
   "outputs": [],
   "source": [
    "from skimage.filters import threshold_local\n",
    "\n",
    "img_ = cv2.GaussianBlur(img_orig, (25,25), 0)\n",
    "\n",
    "V = cv2.split(cv2.cvtColor(img_, cv2.COLOR_BGR2HSV))[2]\n",
    "T = threshold_local(V, 127, offset=7, method=\"gaussian\")\n",
    "\n",
    "thresh = (V > T).astype(\"uint8\") * 255\n",
    "\n",
    "plt.figure(figsize = (200,20))\n",
    "plt.imshow(thresh)\n"
   ]
  },
  {
   "cell_type": "code",
   "execution_count": null,
   "metadata": {},
   "outputs": [],
   "source": [
    "plt.figure(figsize = (100,10))\n",
    "plt.imshow(img_grey, cmap='gray') #\"Grises\""
   ]
  },
  {
   "cell_type": "code",
   "execution_count": null,
   "metadata": {},
   "outputs": [],
   "source": [
    "mask = np.zeros([2848, 4288], np.int8)\n",
    "cv2.circle(mask,(2540, 1050), 1500, (255,255,255), -1)\n",
    "\n",
    "plt.imshow(mask, cmap='gray')\n",
    "\n",
    "print(mask[1500,1030])\n",
    "print(mask[0,0])\n",
    "\n",
    "\n",
    "img_grey[mask == 0] = 255\n"
   ]
  },
  {
   "cell_type": "code",
   "execution_count": null,
   "metadata": {},
   "outputs": [],
   "source": [
    "_, th = cv2.threshold(img_grey, 120, 255, cv2.THRESH_BINARY)\n",
    "\n",
    "plt.figure(figsize = (100,10))\n",
    "plt.imshow(th)\n"
   ]
  },
  {
   "cell_type": "code",
   "execution_count": null,
   "metadata": {},
   "outputs": [],
   "source": [
    "contornos, _ = cv2.findContours(th, cv2.RETR_EXTERNAL, cv2.CHAIN_APPROX_SIMPLE)\n",
    "print(len(contornos))"
   ]
  },
  {
   "cell_type": "code",
   "execution_count": null,
   "metadata": {},
   "outputs": [],
   "source": [
    "img_bb = img_orig\n",
    "hmax = 150\n",
    "wmax = 150\n",
    "rect = 150\n",
    "\n",
    "for c in contornos:\n",
    "    (x, y, w, h) = cv2.boundingRect(c)\n",
    "    #if (h<hmax) or (w<wmax):\n",
    "\n",
    "    x0 = int((x + w/2) - (rect/2))\n",
    "    y0 = int((y + h/2) - (rect/2))\n",
    "\n",
    "    cv2.rectangle(img_bb, (x0, y0), (x0+rect, y0+rect), (0, 0, 255), 2)\n",
    "    #else:\n",
    "    #    cv2.rectangle(img_bb, (x, y), (x+w, y+h), (0, 0, 255), 20)\n",
    "\n",
    "plt.figure(figsize = (200,20))\n",
    "plt.imshow(img_bb)"
   ]
  },
  {
   "cell_type": "code",
   "execution_count": null,
   "metadata": {},
   "outputs": [],
   "source": []
  },
  {
   "cell_type": "code",
   "execution_count": null,
   "metadata": {},
   "outputs": [],
   "source": []
  }
 ],
 "metadata": {
  "kernelspec": {
   "display_name": "base",
   "language": "python",
   "name": "python3"
  },
  "language_info": {
   "codemirror_mode": {
    "name": "ipython",
    "version": 3
   },
   "file_extension": ".py",
   "mimetype": "text/x-python",
   "name": "python",
   "nbconvert_exporter": "python",
   "pygments_lexer": "ipython3",
   "version": "3.8.8"
  }
 },
 "nbformat": 4,
 "nbformat_minor": 2
}
