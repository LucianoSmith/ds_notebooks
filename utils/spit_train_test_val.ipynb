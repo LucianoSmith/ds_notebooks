{
 "cells": [
  {
   "cell_type": "code",
   "execution_count": null,
   "metadata": {},
   "outputs": [],
   "source": [
    "import pandas as pd \n",
    "import os \n",
    "from sklearn.model_selection import train_test_split\n",
    "from tqdm import tqdm\n",
    "import shutil\n"
   ]
  },
  {
   "cell_type": "code",
   "execution_count": 74,
   "metadata": {},
   "outputs": [],
   "source": [
    "def split_img_label(data_train, data_test, folder_train, folder_test):\n",
    "    \n",
    "    os.mkdir(folder_train)\n",
    "    os.mkdir(folder_test)\n",
    "    \n",
    "    os.mkdir(folder_train + '/images')\n",
    "    os.mkdir(folder_test + '/images')\n",
    "    \n",
    "    os.mkdir(folder_train + '/labels')\n",
    "    os.mkdir(folder_test + '/labels')\n",
    "    \n",
    "    train_ind=list(data_train.index)\n",
    "    test_ind=list(data_test.index)\n",
    "\n",
    "    # Train folder\n",
    "    for i in tqdm(range(len(train_ind))):       \n",
    "        shutil.copy(data_train[train_ind[i]], folder_train + '/images/')\n",
    "        shutil.copy((data_train[train_ind[i]].split('.png')[0]+'.txt').replace('images', 'labels'), folder_train + '/labels/')\n",
    "\n",
    "    # Test folder\n",
    "    for j in tqdm(range(len(test_ind))):   \n",
    "        shutil.copy(data_test[test_ind[j]], folder_test + '/images/')\n",
    "        shutil.copy((data_test[test_ind[j]].split('.png')[0]+'.txt').replace('images', 'labels'), folder_test + '/labels/')\n"
   ]
  },
  {
   "cell_type": "code",
   "execution_count": 75,
   "metadata": {},
   "outputs": [
    {
     "name": "stderr",
     "output_type": "stream",
     "text": [
      "100%|██████████| 160/160 [00:00<00:00, 352.49it/s]\n",
      "100%|██████████| 40/40 [00:00<00:00, 99.55it/s] \n"
     ]
    }
   ],
   "source": [
    "\n",
    "dataset_path = './dataset_1/'\n",
    "folder_train_name = './dataset_1/train'\n",
    "folder_test_name = './dataset_1/test'\n",
    "\n",
    "list_img=[img for img in os.listdir(dataset_path+'images/') if img.endswith('.png')==True]\n",
    "list_txt=[img for img in os.listdir(dataset_path+'labels/') if img.endswith('.txt')==True]\n",
    "\n",
    "path_img=[]\n",
    "\n",
    "for i in range (len(list_img)):\n",
    "    path_img.append(dataset_path+'images/'+list_img[i])\n",
    "    \n",
    "df=pd.DataFrame(path_img)\n",
    "\n",
    "# split \n",
    "data_train, data_test, labels_train, labels_test = train_test_split(df[0], df.index, test_size=0.20, random_state=42)\n",
    "\n",
    "# Function split \n",
    "split_img_label(data_train,data_test, folder_train_name, folder_test_name)\n"
   ]
  }
 ],
 "metadata": {
  "kernelspec": {
   "display_name": "Python 3",
   "language": "python",
   "name": "python3"
  },
  "language_info": {
   "codemirror_mode": {
    "name": "ipython",
    "version": 3
   },
   "file_extension": ".py",
   "mimetype": "text/x-python",
   "name": "python",
   "nbconvert_exporter": "python",
   "pygments_lexer": "ipython3",
   "version": "3.8.8"
  }
 },
 "nbformat": 4,
 "nbformat_minor": 2
}
