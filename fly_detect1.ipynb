{
 "cells": [
  {
   "cell_type": "code",
   "execution_count": null,
   "metadata": {},
   "outputs": [],
   "source": [
    "import numpy as np\n",
    "import cv2\n",
    "import matplotlib.pyplot as plt\n",
    "%matplotlib inline  "
   ]
  },
  {
   "cell_type": "code",
   "execution_count": null,
   "metadata": {},
   "outputs": [],
   "source": [
    "img_orig = cv2.imread('Fotos 1-11-097.jpeg', cv2.COLOR_BGR2RGB) \n",
    "img_orig = cv2.cvtColor(img_orig, cv2.COLOR_RGB2BGR)\n"
   ]
  },
  {
   "cell_type": "code",
   "execution_count": null,
   "metadata": {},
   "outputs": [],
   "source": [
    "def increase_brightness(img, value=30):\n",
    "    hsv = cv2.cvtColor(img, cv2.COLOR_BGR2HSV)\n",
    "    h, s, v = cv2.split(hsv)\n",
    "\n",
    "    lim = 255 - value\n",
    "    v[v > lim] = 255\n",
    "    v[v <= lim] += value\n",
    "\n",
    "    final_hsv = cv2.merge((h, s, v))\n",
    "    img = cv2.cvtColor(final_hsv, cv2.COLOR_HSV2BGR)\n",
    "    return img"
   ]
  },
  {
   "cell_type": "code",
   "execution_count": null,
   "metadata": {},
   "outputs": [],
   "source": [
    "img_orig_b = increase_brightness(img_orig, value=150)\n",
    "img_grey  = cv2.cvtColor(img_orig_b, cv2.COLOR_BGR2GRAY)\n",
    "plt.figure(figsize = (200,20))\n",
    "plt.imshow(img_grey) "
   ]
  },
  {
   "cell_type": "code",
   "execution_count": null,
   "metadata": {},
   "outputs": [],
   "source": [
    "img_ = cv2.GaussianBlur(img_grey, (3,3), 0)\n",
    "_, img_thr = cv2.threshold(img_, 230, 255, cv2.THRESH_BINARY)\n",
    "\n",
    "#img_thr = cv2.adaptiveThreshold(img_, 255, cv2.ADAPTIVE_THRESH_MEAN_C, cv2.THRESH_BINARY, 3, 5)\n",
    "#_, img_thr = cv2.threshold(img_, 0, 255, cv2.THRESH_BINARY + cv2.THRESH_OTSU)\n",
    "\n",
    "plt.figure(figsize = (200,20))\n",
    "plt.imshow(img_thr, cmap=\"gray\") "
   ]
  },
  {
   "cell_type": "code",
   "execution_count": null,
   "metadata": {},
   "outputs": [],
   "source": [
    "# erossion and dilatation\n",
    "\n",
    "kernel = np.ones((3,3), np.uint8)\n",
    "\n",
    "img_erodil = img_thr\n",
    "\n",
    "img_erodil = cv2.dilate(img_erodil, kernel, iterations = 10)\n",
    "img_erodil = cv2.erode(img_erodil, kernel, iterations = 10)\n",
    "\n",
    "\n",
    "plt.figure(figsize = (200,20))\n",
    "plt.imshow(img_erodil, cmap=\"gray\") "
   ]
  },
  {
   "cell_type": "code",
   "execution_count": null,
   "metadata": {},
   "outputs": [],
   "source": [
    "img_erodil = cv2.bitwise_not(img_erodil)"
   ]
  },
  {
   "cell_type": "code",
   "execution_count": null,
   "metadata": {},
   "outputs": [],
   "source": [
    "# nofunciona\n",
    "#t  = 18\n",
    "t  = 10\n",
    "cont = 0\n",
    "contornos, _ = cv2.findContours(img_erodil, cv2.RETR_EXTERNAL, cv2.CHAIN_APPROX_SIMPLE)\n",
    "print(len(contornos))\n",
    "for c in contornos:\n",
    "    if len(c)>t: \n",
    "        #print(len(c))\n",
    "        cont = cont + 1\n",
    "\n",
    "print(\"cant contornos\", cont)"
   ]
  },
  {
   "cell_type": "code",
   "execution_count": null,
   "metadata": {},
   "outputs": [],
   "source": [
    "#img_fin = img_orig\n",
    "\n",
    "ds = 55\n",
    "\n",
    "img_fin = img_erodil.copy()\n",
    "\n",
    "img_fin2 = img_orig.copy()\n",
    "\n",
    "hmin = 20\n",
    "wmin = 20\n",
    "cont = 0\n",
    "\n",
    "hmax = 120\n",
    "wmax = 120\n",
    "rect = 150\n",
    "\n",
    "y_text = 10\n",
    "\n",
    "font = cv2.FONT_HERSHEY_SIMPLEX\n",
    "\n",
    "for c in contornos:\n",
    "    if len(c)>t:\n",
    "        (x, y, w, h) = cv2.boundingRect(c)\n",
    "        x0 = int((x + w/2) - (rect/2))\n",
    "        y0 = int((y + h/2) - (rect/2))\n",
    "        cont=cont+1\n",
    "\n",
    "\n",
    "        if ((h>hmin) and (w>wmin)) and ((h<hmax) and (w<wmax)):\n",
    "\n",
    "            q = 0\n",
    "            for x in range(x0, x0+rect):\n",
    "                for y in range(y0, y0+rect):\n",
    "                    if(img_erodil[y, x]>0): \n",
    "                        q = q + 1\n",
    "                        if (cont==ds): \n",
    "                            img_fin[y, x]=100\n",
    "                            \n",
    "\n",
    "                    \n",
    "            \n",
    "            p = round((q/(150*150))*100, 1)\n",
    "            print('OBJ #', cont, ' ', p, ' %')\n",
    "\n",
    "            if (p>4) and (p<20):\n",
    "                #cv2.rectangle(img_thr, (x0, y0), (x0+rect, y0+rect), (255, 255, 255), 5)\n",
    "                cv2.rectangle(img_fin, (x0, y0), (x0+rect, y0+rect), (255, 0, 255), 5)\n",
    "                cv2.rectangle(img_fin2, (x0, y0), (x0+rect, y0+rect), (255, 0, 255), 5)\n",
    "                \n",
    "                cv2.putText(img_fin, str(cont), (x0, y0-y_text), font, 1, (255, 0, 255), 3, cv2.LINE_AA)\n",
    "                cv2.putText(img_fin2, str(cont), (x0, y0-y_text), font, 1, (255, 0, 255), 3, cv2.LINE_AA)\n",
    "\n",
    "\n",
    "                # UMBRAL MINIMO 4%\n",
    "                # UMBRAL MAXIMO 20%\n",
    "                # cv2.rectangle(img_fin2, (x0+rect, y0+rect), (x0+rect-100, y0+rect-30), (255, 255, 255), -1)\n",
    "                cv2.rectangle(img_fin, (x0+rect, y0+rect), (x0+rect-100, y0+rect-30), (255, 255, 255), -1)\n",
    "                cv2.putText(img_fin, str(p)+\" %\" , (x0+rect-95, y0+rect-5), font, 1, (100, 100, 100), 2, cv2.LINE_AA)\n",
    "\n",
    "                \n",
    "                roi = img_orig[y0:y0+rect, x0:x0+rect]\n",
    "                cv2.imwrite(str(cont)+'.png', roi)\n",
    "\n",
    "            \n",
    "        else:\n",
    "            \n",
    "            cv2.rectangle(img_fin, (x0, y0), (x0+rect, y0+rect), (0, 0, 255), 5)\n",
    "            cv2.rectangle(img_fin2, (x0, y0), (x0+rect, y0+rect), (0, 255, 255), 5)\n",
    "\n",
    "            cv2.putText(img_fin, str(cont), (x0, y0-y_text), font, 1, (0, 255, 255), 3, cv2.LINE_AA)\n",
    "            cv2.putText(img_fin2, str(cont), (x0, y0-y_text), font, 1, (0, 255, 255), 3, cv2.LINE_AA)\n",
    "        \n",
    "\n",
    "print(cont)"
   ]
  },
  {
   "cell_type": "code",
   "execution_count": null,
   "metadata": {},
   "outputs": [],
   "source": [
    "plt.figure(figsize = (5,5))\n",
    "plt.imshow(roi)\n",
    "\n"
   ]
  },
  {
   "cell_type": "code",
   "execution_count": null,
   "metadata": {},
   "outputs": [],
   "source": [
    "plt.figure(figsize = (200,20))\n",
    "plt.imshow(img_fin)"
   ]
  },
  {
   "cell_type": "code",
   "execution_count": null,
   "metadata": {},
   "outputs": [],
   "source": [
    "plt.figure(figsize = (200,20))\n",
    "plt.imshow(img_fin2)"
   ]
  },
  {
   "cell_type": "code",
   "execution_count": null,
   "metadata": {},
   "outputs": [],
   "source": [
    "# marca el centro de masa\n",
    "def mark_cdm (i, i2, x0, y0): # i porción de imagen RGB \n",
    "    \n",
    "    c = 15 # la cruz tiene 2*C de lado\n",
    "\n",
    "    #imprime la imagen\n",
    "    #plt.figure(figsize = (200,30))\n",
    "    #plt.imshow(i) \n",
    "\n",
    "    eyes_lo=np.array([90,60,60])\n",
    "    eyes_hi=np.array([125,85,85])\n",
    "\n",
    "    mask=cv2.inRange(i,eyes_lo,eyes_hi)\n",
    "\n",
    "    #imprime la mascara\n",
    "    #plt.figure(figsize = (200,30))\n",
    "    #plt.imshow(mask) \n",
    "\n",
    "    M = cv2.moments(mask)\n",
    " \n",
    "    # calculate x,y coordinate of center\n",
    "    x = int(M[\"m10\"] / M[\"m00\"])\n",
    "    y = int(M[\"m01\"] / M[\"m00\"])\n",
    " \n",
    "    x = x0 + x\n",
    "    y = y0 + y\n",
    "\n",
    "\n",
    "    # put text and highlight the center\n",
    "    cv2.circle(i2, (x, y), 5, (255, 255, 255), -1)\n",
    "    cv2.putText(i2, \"target\", (x - 25, y - 25),cv2.FONT_HERSHEY_SIMPLEX, 0.5, (255, 255, 255), 2)\n",
    " \n",
    "    cv2.line(i2, (x, y-c), (x, y+c), (255, 255, 0), 2) \n",
    "    cv2.line(i2, (x-c, y), (x+c, y), (255, 255, 0), 2) \n",
    "\n",
    "    # imprime imagen\n",
    "    #plt.figure(figsize = (30,5))\n",
    "    #plt.imshow(i) \n",
    "    "
   ]
  },
  {
   "cell_type": "code",
   "execution_count": null,
   "metadata": {},
   "outputs": [],
   "source": [
    "rect = 150\n",
    "for c in contornos:\n",
    "    print(c)\n",
    "    (x, y, w, h) = cv2.boundingRect(c)\n",
    "    x0 = int((x + w/2) - (rect/2))\n",
    "    y0 = int((y + h/2) - (rect/2))\n",
    "\n",
    "    roi = img_orig[y0:y0+rect, x0:x0+rect]\n",
    "    mark_cdm(roi, img_fin2, x0, y0)\n",
    "    \n"
   ]
  },
  {
   "cell_type": "code",
   "execution_count": null,
   "metadata": {},
   "outputs": [],
   "source": [
    "\n",
    "plt.figure(figsize = (300,100))\n",
    "plt.imshow(img_fin2) \n",
    "    "
   ]
  },
  {
   "cell_type": "markdown",
   "metadata": {},
   "source": [
    "solapamiento:\n",
    "\n",
    "si el cuerpo supera una cantidad de pixels se presume 2 moscas pegadas y se marca\n",
    "si dentro de un boundingbox existen dos cuerpos se presume 2 moscas pegadas y se marca\n",
    "\n",
    "\n",
    "funcion de clasificacion aleatoria\n",
    "\n",
    "\n",
    "funcion de TSP:\n"
   ]
  },
  {
   "cell_type": "code",
   "execution_count": null,
   "metadata": {},
   "outputs": [],
   "source": [
    "# solapamiento\n"
   ]
  }
 ],
 "metadata": {
  "kernelspec": {
   "display_name": "base",
   "language": "python",
   "name": "python3"
  },
  "language_info": {
   "codemirror_mode": {
    "name": "ipython",
    "version": 3
   },
   "file_extension": ".py",
   "mimetype": "text/x-python",
   "name": "python",
   "nbconvert_exporter": "python",
   "pygments_lexer": "ipython3",
   "version": "3.8.8"
  }
 },
 "nbformat": 4,
 "nbformat_minor": 2
}
